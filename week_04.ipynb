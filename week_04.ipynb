{
  "nbformat": 4,
  "nbformat_minor": 0,
  "metadata": {
    "colab": {
      "name": "week 04.ipynb",
      "provenance": [],
      "authorship_tag": "ABX9TyPDzZh6/0t7InDVd8U+sFNn",
      "include_colab_link": true
    },
    "kernelspec": {
      "name": "python3",
      "display_name": "Python 3"
    }
  },
  "cells": [
    {
      "cell_type": "markdown",
      "metadata": {
        "id": "view-in-github",
        "colab_type": "text"
      },
      "source": [
        "<a href=\"https://colab.research.google.com/github/SAKHAWT-HOSEN/OOP-LAB-DIU-/blob/master/week_04.ipynb\" target=\"_parent\"><img src=\"https://colab.research.google.com/assets/colab-badge.svg\" alt=\"Open In Colab\"/></a>"
      ]
    },
    {
      "cell_type": "code",
      "metadata": {
        "id": "iOoOXoAmAw3W"
      },
      "source": [
        "#creating list\n",
        "lst0=[2,3,5,6,7,8,9,33,55,\"python\",[4,64,7]]\n",
        "print(lst0)\n",
        "lst1=[]\n",
        "print(lst1)\n",
        "lst2=list()\n",
        "print(lst2)"
      ],
      "execution_count": null,
      "outputs": []
    },
    {
      "cell_type": "code",
      "metadata": {
        "id": "mAq0hHb6-Qjp",
        "outputId": "611c4684-e652-444a-eaf9-74b3ce23e723",
        "colab": {
          "base_uri": "https://localhost:8080/",
          "height": 34
        }
      },
      "source": [
        "#iterationg list\n",
        "\n",
        "lst0=[2,3,5,6,7,8,9,33,55,\"python\",[4,64,7]]\n",
        "for i in lst0:\n",
        "    print(i,end=' ')\n",
        "print ('')"
      ],
      "execution_count": 7,
      "outputs": [
        {
          "output_type": "stream",
          "text": [
            "2 3 5 6 7 8 9 33 55 python [4, 64, 7] \n"
          ],
          "name": "stdout"
        }
      ]
    },
    {
      "cell_type": "code",
      "metadata": {
        "id": "dB00Lev4_MdC",
        "outputId": "a14040ea-f55a-49c6-896c-81ea3dc21144",
        "colab": {
          "base_uri": "https://localhost:8080/",
          "height": 85
        }
      },
      "source": [
        "# iterating list\n",
        "lst0=[2,3,5,6,7,8,9,33,55,\"python\",[4,64,7]]\n",
        "print(lst0[2])\n",
        "print(lst0[5])\n",
        "print(lst0[-3])\n",
        "print(lst0[-8])"
      ],
      "execution_count": 9,
      "outputs": [
        {
          "output_type": "stream",
          "text": [
            "5\n",
            "8\n",
            "55\n",
            "6\n"
          ],
          "name": "stdout"
        }
      ]
    },
    {
      "cell_type": "code",
      "metadata": {
        "id": "nuQXiHwN_2w2",
        "outputId": "7be7c976-5711-4694-817b-3d2387be2634",
        "colab": {
          "base_uri": "https://localhost:8080/",
          "height": 170
        }
      },
      "source": [
        "#List operations\n",
        "lst0=[2,3,5,6,7,8,9,33,55,\"python\",[4,64,7]]\n",
        "print(len(lst0))\n",
        "lst0.append([14,65,2,6])\n",
        "print(lst0)\n",
        "lst0.insert(5,\"pandas\")\n",
        "print(lst0)\n",
        "lst0.remove(6)\n",
        "print(lst0)\n",
        "print(lst0.index(\"python\"))\n",
        "print(lst0.count('pandas'))\n",
        "print(lst0.reverse())\n",
        "lst1=lst0.copy()\n",
        "print(lst1)\n",
        "lst0.clear()\n",
        "print(lst0)"
      ],
      "execution_count": 10,
      "outputs": [
        {
          "output_type": "stream",
          "text": [
            "11\n",
            "[2, 3, 5, 6, 7, 8, 9, 33, 55, 'python', [4, 64, 7], [14, 65, 2, 6]]\n",
            "[2, 3, 5, 6, 7, 'pandas', 8, 9, 33, 55, 'python', [4, 64, 7], [14, 65, 2, 6]]\n",
            "[2, 3, 5, 7, 'pandas', 8, 9, 33, 55, 'python', [4, 64, 7], [14, 65, 2, 6]]\n",
            "9\n",
            "1\n",
            "None\n",
            "[[14, 65, 2, 6], [4, 64, 7], 'python', 55, 33, 9, 8, 'pandas', 7, 5, 3, 2]\n",
            "[]\n"
          ],
          "name": "stdout"
        }
      ]
    },
    {
      "cell_type": "code",
      "metadata": {
        "id": "iqPe_b-HA5Nb",
        "outputId": "99bec24f-9d6b-404c-b2b7-f6b7582240d6",
        "colab": {
          "base_uri": "https://localhost:8080/",
          "height": 85
        }
      },
      "source": [
        "#list Slicing\n",
        "lst0=[2,3,5,6,7,8,9,33,55,\"python\",[4,64,7]]\n",
        "print(lst0[6:7])\n",
        "print(lst0[4:])\n",
        "print(lst0[:5])\n",
        "print(lst0[:])"
      ],
      "execution_count": 11,
      "outputs": [
        {
          "output_type": "stream",
          "text": [
            "[9]\n",
            "[7, 8, 9, 33, 55, 'python', [4, 64, 7]]\n",
            "[2, 3, 5, 6, 7]\n",
            "[2, 3, 5, 6, 7, 8, 9, 33, 55, 'python', [4, 64, 7]]\n"
          ],
          "name": "stdout"
        }
      ]
    },
    {
      "cell_type": "code",
      "metadata": {
        "id": "464p8d4jBMg1",
        "outputId": "cbba0915-df00-436e-b920-1a2e1de6a794",
        "colab": {
          "base_uri": "https://localhost:8080/",
          "height": 68
        }
      },
      "source": [
        "#list sorting\n",
        "\n",
        "lst3=[1,3,5,6,7,8,5,4,6,7,8,]\n",
        "lst4=sorted(lst3)\n",
        "print(lst4)\n",
        "print(lst3)\n",
        "lst3.sort()\n",
        "print(lst3)"
      ],
      "execution_count": 12,
      "outputs": [
        {
          "output_type": "stream",
          "text": [
            "[1, 3, 4, 5, 5, 6, 6, 7, 7, 8, 8]\n",
            "[1, 3, 5, 6, 7, 8, 5, 4, 6, 7, 8]\n",
            "[1, 3, 4, 5, 5, 6, 6, 7, 7, 8, 8]\n"
          ],
          "name": "stdout"
        }
      ]
    },
    {
      "cell_type": "code",
      "metadata": {
        "id": "vuYR7PpmBsTz",
        "outputId": "ac8007e3-1bdc-4002-80f5-608fc4906983",
        "colab": {
          "base_uri": "https://localhost:8080/",
          "height": 68
        }
      },
      "source": [
        "#creating tuple\n",
        "\n",
        "tp0=(3,4,6,4,33,44,55,56,6,\"python\",[4,55,6])\n",
        "print(tp0)\n",
        "tp1=()\n",
        "print(tp1)\n",
        "tp2=tuple()\n",
        "print(tp2)"
      ],
      "execution_count": 14,
      "outputs": [
        {
          "output_type": "stream",
          "text": [
            "(3, 4, 6, 4, 33, 44, 55, 56, 6, 'python', [4, 55, 6])\n",
            "()\n",
            "()\n"
          ],
          "name": "stdout"
        }
      ]
    },
    {
      "cell_type": "code",
      "metadata": {
        "id": "jQFasPJ_B3pS",
        "outputId": "a20fe134-4e01-4594-b0a0-e87a9ebe4ea8",
        "colab": {
          "base_uri": "https://localhost:8080/",
          "height": 34
        }
      },
      "source": [
        "#iterating tuple\n",
        "\n",
        "tp0=(3,4,6,4,33,44,55,56,6,\"python\",[4,55,6])\n",
        "for i in tp0:\n",
        "  print(i,end=' ')\n",
        "print('')"
      ],
      "execution_count": 15,
      "outputs": [
        {
          "output_type": "stream",
          "text": [
            "3 4 6 4 33 44 55 56 6 python [4, 55, 6] \n"
          ],
          "name": "stdout"
        }
      ]
    },
    {
      "cell_type": "code",
      "metadata": {
        "id": "aepFXxjMCotU",
        "outputId": "0a6d89c3-32a5-4801-c489-aa6a5010b8e4",
        "colab": {
          "base_uri": "https://localhost:8080/",
          "height": 85
        }
      },
      "source": [
        "#iterating tuple\n",
        "\n",
        "tp0=(3,4,6,4,33,44,55,56,6,\"python\",[4,55,6])\n",
        "print(tp0[4])\n",
        "print(tp0[7])\n",
        "print(tp0[-3])\n",
        "print(tp0[-5])"
      ],
      "execution_count": 16,
      "outputs": [
        {
          "output_type": "stream",
          "text": [
            "33\n",
            "56\n",
            "6\n",
            "55\n"
          ],
          "name": "stdout"
        }
      ]
    },
    {
      "cell_type": "code",
      "metadata": {
        "id": "QFxvUhnRC8U2",
        "outputId": "7c92aa06-f520-45ff-ceca-ce2ea9e701d9",
        "colab": {
          "base_uri": "https://localhost:8080/",
          "height": 34
        }
      },
      "source": [
        "#inserting into tuple \n",
        "tp0=(3,4,6,4,33,44,55,56,6,\"python\",[4,55,6])\n",
        "tp0+=(\"pandas\", 3332,55,6,67)\n",
        "print(tp0)"
      ],
      "execution_count": 17,
      "outputs": [
        {
          "output_type": "stream",
          "text": [
            "(3, 4, 6, 4, 33, 44, 55, 56, 6, 'python', [4, 55, 6], 'pandas', 3332, 55, 6, 67)\n"
          ],
          "name": "stdout"
        }
      ]
    },
    {
      "cell_type": "code",
      "metadata": {
        "id": "S4Q9dLXYDNdZ",
        "outputId": "54da49c1-74b4-415a-e8e7-3268482a79c5",
        "colab": {
          "base_uri": "https://localhost:8080/",
          "height": 102
        }
      },
      "source": [
        "#unpacking sequences\n",
        "\n",
        "lst=[7,8,9,33,88]\n",
        "a,b,c,d,e=lst\n",
        "print(a)\n",
        "print(b)\n",
        "print(c)\n",
        "print(d)\n",
        "print(e)\n"
      ],
      "execution_count": 23,
      "outputs": [
        {
          "output_type": "stream",
          "text": [
            "7\n",
            "8\n",
            "9\n",
            "33\n",
            "88\n"
          ],
          "name": "stdout"
        }
      ]
    },
    {
      "cell_type": "code",
      "metadata": {
        "id": "GeDS-yVbEVEE",
        "outputId": "27a9437e-2be2-46af-c704-f3ecd3fc443a",
        "colab": {
          "base_uri": "https://localhost:8080/",
          "height": 102
        }
      },
      "source": [
        "#unpacking sequences\n",
        "tp=(3,5,7,555,443)\n",
        "a,b,c,d,e=tp\n",
        "print(a)\n",
        "print(b)\n",
        "print(c)\n",
        "print(d)\n",
        "print(e)"
      ],
      "execution_count": 26,
      "outputs": [
        {
          "output_type": "stream",
          "text": [
            "3\n",
            "5\n",
            "7\n",
            "555\n",
            "443\n"
          ],
          "name": "stdout"
        }
      ]
    }
  ]
}